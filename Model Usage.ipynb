{
 "cells": [
  {
   "cell_type": "code",
   "execution_count": 16,
   "id": "e5951f8c-4ecd-4798-8dc1-e729561f8bc9",
   "metadata": {},
   "outputs": [
    {
     "data": {
      "text/plain": [
       "array([21.628])"
      ]
     },
     "execution_count": 16,
     "metadata": {},
     "output_type": "execute_result"
    }
   ],
   "source": [
    "from joblib import dump, load\n",
    "import numpy as np\n",
    "model = load('Dragon.joblib')\n",
    "\n",
    "inputs = np.array([[-0.43942006,  4.12628155, -1.13165014, -0.27288841, -1.62262747,\n",
    "       -10.23979304, -10.31238772,  2.61111401, -1.0016859 , -0.5778192 ,\n",
    "       -0.997491834,  0.41164221, -0.86091034]])\n",
    "model.predict(inputs)"
   ]
  },
  {
   "cell_type": "code",
   "execution_count": 14,
   "id": "a6a40b0d-1f01-4404-99a6-1b7ddd30f5f0",
   "metadata": {},
   "outputs": [
    {
     "data": {
      "text/plain": [
       "array([21.628])"
      ]
     },
     "execution_count": 14,
     "metadata": {},
     "output_type": "execute_result"
    }
   ],
   "source": []
  },
  {
   "cell_type": "code",
   "execution_count": null,
   "id": "09e1bc71-f265-46db-8241-734516e924cb",
   "metadata": {},
   "outputs": [],
   "source": []
  }
 ],
 "metadata": {
  "kernelspec": {
   "display_name": "Python 3 (ipykernel)",
   "language": "python",
   "name": "python3"
  },
  "language_info": {
   "codemirror_mode": {
    "name": "ipython",
    "version": 3
   },
   "file_extension": ".py",
   "mimetype": "text/x-python",
   "name": "python",
   "nbconvert_exporter": "python",
   "pygments_lexer": "ipython3",
   "version": "3.12.3"
  }
 },
 "nbformat": 4,
 "nbformat_minor": 5
}
